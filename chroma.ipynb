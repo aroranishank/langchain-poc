{
 "cells": [
  {
   "cell_type": "markdown",
   "metadata": {},
   "source": [
    "Chroma\n",
    "\n",
    "###### Chroma is a AI-native open-source vector database focused on developer productivity and happiness. Chroma is licensed under Apache 2.0"
   ]
  },
  {
   "cell_type": "code",
   "execution_count": null,
   "metadata": {},
   "outputs": [],
   "source": []
  },
  {
   "cell_type": "code",
   "execution_count": 4,
   "metadata": {},
   "outputs": [],
   "source": [
    "from langchain_community.document_loaders import TextLoader\n",
    "from langchain_chroma.vectorstores import Chroma\n",
    "from langchain_ollama import OllamaEmbeddings\n",
    "from langchain_text_splitters import RecursiveCharacterTextSplitter\n",
    "\n",
    "loaders = TextLoader(\"speech.txt\")\n",
    "documents = loaders.load()\n",
    "text_splitter = RecursiveCharacterTextSplitter(chunk_size=200, chunk_overlap=30)\n",
    "docs = text_splitter.split_documents(documents)"
   ]
  },
  {
   "cell_type": "code",
   "execution_count": 6,
   "metadata": {},
   "outputs": [
    {
     "data": {
      "text/plain": [
       "<langchain_chroma.vectorstores.Chroma at 0x13f2cd750>"
      ]
     },
     "execution_count": 6,
     "metadata": {},
     "output_type": "execute_result"
    }
   ],
   "source": [
    "embeddings = OllamaEmbeddings(model=\"llama3\")\n",
    "db = Chroma.from_documents(docs, embeddings)\n",
    "db"
   ]
  },
  {
   "cell_type": "code",
   "execution_count": 8,
   "metadata": {},
   "outputs": [
    {
     "data": {
      "text/plain": [
       "[Document(metadata={'source': 'speech.txt'}, page_content='Ladies and Gentlemen,'),\n",
       " Document(metadata={'source': 'speech.txt'}, page_content='It is a pleasure for me to be here tonight and address such a great audience. The issue I would like to bring up threatens the prosperity and welfare of the whole nation, however, the majority of the'),\n",
       " Document(metadata={'source': 'speech.txt'}, page_content='however, the majority of the population tends to ignore it and pretend as if it is not a problem at all. Namely, I would like to talk about the risks of obesity.'),\n",
       " Document(metadata={'source': 'speech.txt'}, page_content='First of all, it would be reasonable to present the statistics that some of you might find shocking. To be more precise, in accordance with the data provided by the Office of Disease Prevention and'),\n",
       " Document(metadata={'source': 'speech.txt'}, page_content='of Disease Prevention and Health Promotion, the number of people suffering from obesity has already reached the point of 35% of the whole US population. Just imagine, one-third of Americans is'),\n",
       " Document(metadata={'source': 'speech.txt'}, page_content='one-third of Americans is particularly limited in their opportunities to have a happy, comprehensive, and productive life. Let me remind you, that the right to health was considered by the United'),\n",
       " Document(metadata={'source': 'speech.txt'}, page_content='was considered by the United Nations to be an integral element of the human rights and the individual dignity. I believe, that it is a high time to ask ourselves whether the lifestyle patterns'),\n",
       " Document(metadata={'source': 'speech.txt'}, page_content='the lifestyle patterns cultivated in the US are actually contributing to the concept of human dignity or not. Unfortunately, the honest answer would rather disappoint us.'),\n",
       " Document(metadata={'source': 'speech.txt'}, page_content='Obviously, the complaints and disappointment may hardly improve the recent state of affairs. Subsequently, I believe, that the awareness and personal determination to change the trend are the first'),\n",
       " Document(metadata={'source': 'speech.txt'}, page_content='the trend are the first steps towards the overall success. Some of you would definitely argue that it is an entirely personal responsibility or, at most, the responsibility of the Department of'),\n",
       " Document(metadata={'source': 'speech.txt'}, page_content='of the Department of Health. Let me disagree and explain the essence the obesity spread. In particular, reducing the time and money being spent on meal has become a generally accepted trend which,'),\n",
       " Document(metadata={'source': 'speech.txt'}, page_content='accepted trend which, however, may hardly bring the benefits to anyone except the fast-food companies’ bosses. Therefore, we should agree that the recent economic model, which has made healthy eating'),\n",
       " Document(metadata={'source': 'speech.txt'}, page_content='which has made healthy eating a privilege of a few, is exceptionally harmful.'),\n",
       " Document(metadata={'source': 'speech.txt'}, page_content='So, what can be done to change the pattern? First of all, there are two aspects of the campaign against the obesity spread. Namely, the first one implies the efforts of the official institutions and'),\n",
       " Document(metadata={'source': 'speech.txt'}, page_content='the official institutions and includes informational campaigns conduction as well as providing the obese people with a proper treatment. However, I would like to emphasize the importance of the other'),\n",
       " Document(metadata={'source': 'speech.txt'}, page_content='the importance of the other aspect which, I believe, implies a key meaning in terms of changing the negative statistics. Namely, I would like to talk about the determination and responsibility of'),\n",
       " Document(metadata={'source': 'speech.txt'}, page_content='and responsibility of each of us who are neither the medical officials nor the obesity victims. In particular, each of us has a friend or colleague who is suffering from obesity. There are also'),\n",
       " Document(metadata={'source': 'speech.txt'}, page_content='from obesity. There are also people, like our children, to whom our behavior may serve as a model to follow. We are responsible for those people and should put our best efforts to raise their'),\n",
       " Document(metadata={'source': 'speech.txt'}, page_content='best efforts to raise their awareness and convince them that it is better to lose some extra half-an-hour but keep our health and welfare safe.'),\n",
       " Document(metadata={'source': 'speech.txt'}, page_content='Ladies and Gentlemen, let me once again thank you for your patience. Being aware and responsible, we are capable of overcoming the threats of obesity spread. Thank you!')]"
      ]
     },
     "execution_count": 8,
     "metadata": {},
     "output_type": "execute_result"
    }
   ],
   "source": [
    "# query\n",
    "query = \"What are the two aspects of the obesity spread?\"\n",
    "query_result = db.similarity_search(query)\n",
    "docs"
   ]
  },
  {
   "cell_type": "code",
   "execution_count": 9,
   "metadata": {},
   "outputs": [],
   "source": [
    "# save to disk\n",
    "vectordb = Chroma.from_documents(docs, embedding=embeddings, persist_directory=\"./chroma_db\")"
   ]
  },
  {
   "cell_type": "code",
   "execution_count": 10,
   "metadata": {},
   "outputs": [],
   "source": [
    "db2 = Chroma(persist_directory=\"./chroma_db\", embedding_function=embeddings)\n",
    "docs = db2.similarity_search(query)"
   ]
  },
  {
   "cell_type": "code",
   "execution_count": 11,
   "metadata": {},
   "outputs": [
    {
     "data": {
      "text/plain": [
       "'Ladies and Gentlemen, let me once again thank you for your patience. Being aware and responsible, we are capable of overcoming the threats of obesity spread. Thank you!'"
      ]
     },
     "execution_count": 11,
     "metadata": {},
     "output_type": "execute_result"
    }
   ],
   "source": [
    "### Retriever option\n",
    "retriever = vectordb.as_retriever()\n",
    "retriever.invoke(query)[0].page_content"
   ]
  },
  {
   "cell_type": "code",
   "execution_count": null,
   "metadata": {},
   "outputs": [],
   "source": []
  }
 ],
 "metadata": {
  "kernelspec": {
   "display_name": "myenv",
   "language": "python",
   "name": "python3"
  },
  "language_info": {
   "codemirror_mode": {
    "name": "ipython",
    "version": 3
   },
   "file_extension": ".py",
   "mimetype": "text/x-python",
   "name": "python",
   "nbconvert_exporter": "python",
   "pygments_lexer": "ipython3",
   "version": "3.11.4"
  }
 },
 "nbformat": 4,
 "nbformat_minor": 2
}
