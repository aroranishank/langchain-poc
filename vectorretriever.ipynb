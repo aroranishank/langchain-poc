{
 "cells": [
  {
   "cell_type": "markdown",
   "metadata": {},
   "source": [
    "### Documents\n",
    "\n",
    "Document has 2 attributes:\n",
    "- page_content\n",
    "- metadata"
   ]
  },
  {
   "cell_type": "code",
   "execution_count": 1,
   "metadata": {},
   "outputs": [],
   "source": [
    "from langchain_core.documents import Document\n",
    "\n",
    "documents = [\n",
    "    Document(metadata={'source': 'speech.txt'}, page_content='Ladies and Gentlemen,'),\n",
    "    Document(metadata={'source': 'speech.txt'}, page_content='It is a pleasure for me to be here tonight and address such a great audience. The issue I would like to bring up threatens the prosperity and welfare of the whole nation, however, the majority of the'),\n",
    "    Document(metadata={'source': 'speech.txt'}, page_content='however, the majority of the population tends to ignore it and pretend as if it is not a problem at all. Namely, I would like to talk about the risks of obesity.'),\n",
    "    Document(metadata={'source': 'speech.txt'}, page_content='First of all, it would be reasonable to present the statistics that some of you might find shocking. To be more precise, in accordance with the data provided by the Office of Disease Prevention and'),\n",
    "    Document(metadata={'source': 'speech.txt'}, page_content='of Disease Prevention and Health Promotion, the number of people suffering from obesity has already reached the point of 35% of the whole US population. Just imagine, one-third of Americans is'),\n",
    "    Document(metadata={'source': 'speech.txt'}, page_content='one-third of Americans is particularly limited in their opportunities to have a happy, comprehensive, and productive life. Let me remind you, that the right to health was considered by the United'),\n",
    "    Document(metadata={'source': 'speech.txt'}, page_content='was considered by the United Nations to be an integral element of the human rights and the individual dignity. I believe, that it is a high time to ask ourselves whether the lifestyle patterns'),\n",
    "    Document(metadata={'source': 'speech.txt'}, page_content='the lifestyle patterns cultivated in the US are actually contributing to the concept of human dignity or not. Unfortunately, the honest answer would rather disappoint us.'),\n",
    "    Document(metadata={'source': 'speech.txt'}, page_content='Obviously, the complaints and disappointment may hardly improve the recent state of affairs. Subsequently, I believe, that the awareness and personal determination to change the trend are the first'),\n",
    "    Document(metadata={'source': 'speech.txt'}, page_content='the trend are the first steps towards the overall success. Some of you would definitely argue that it is an entirely personal responsibility or, at most, the responsibility of the Department of'),\n",
    "    Document(metadata={'source': 'speech.txt'}, page_content='of the Department of Health. Let me disagree and explain the essence the obesity spread. In particular, reducing the time and money being spent on meal has become a generally accepted trend which,'),\n",
    "    Document(metadata={'source': 'speech.txt'}, page_content='accepted trend which, however, may hardly bring the benefits to anyone except the fast-food companies’ bosses. Therefore, we should agree that the recent economic model, which has made healthy eating'),\n",
    "    Document(metadata={'source': 'speech.txt'}, page_content='which has made healthy eating a privilege of a few, is exceptionally harmful.'),\n",
    "    Document(metadata={'source': 'speech.txt'}, page_content='So, what can be done to change the pattern? First of all, there are two aspects of the campaign against the obesity spread. Namely, the first one implies the efforts of the official institutions and'),\n",
    "    Document(metadata={'source': 'speech.txt'}, page_content='the official institutions and includes informational campaigns conduction as well as providing the obese people with a proper treatment. However, I would like to emphasize the importance of the other'),\n",
    "    Document(metadata={'source': 'speech.txt'}, page_content='the importance of the other aspect which, I believe, implies a key meaning in terms of changing the negative statistics. Namely, I would like to talk about the determination and responsibility of'),\n",
    "    Document(metadata={'source': 'speech.txt'}, page_content='and responsibility of each of us who are neither the medical officials nor the obesity victims. In particular, each of us has a friend or colleague who is suffering from obesity. There are also'),\n",
    "    Document(metadata={'source': 'speech.txt'}, page_content='from obesity. There are also people, like our children, to whom our behavior may serve as a model to follow. We are responsible for those people and should put our best efforts to raise their'),\n",
    "    Document(metadata={'source': 'speech.txt'}, page_content='best efforts to raise their awareness and convince them that it is better to lose some extra half-an-hour but keep our health and welfare safe.'),\n",
    "    Document(metadata={'source': 'speech.txt'}, page_content='Ladies and Gentlemen, let me once again thank you for your patience. Being aware and responsible, we are capable of overcoming the threats of obesity spread. Thank you!')\n",
    "]"
   ]
  },
  {
   "cell_type": "code",
   "execution_count": 2,
   "metadata": {},
   "outputs": [
    {
     "data": {
      "text/plain": [
       "True"
      ]
     },
     "execution_count": 2,
     "metadata": {},
     "output_type": "execute_result"
    }
   ],
   "source": [
    "import os\n",
    "from dotenv import load_dotenv\n",
    "load_dotenv()"
   ]
  },
  {
   "cell_type": "code",
   "execution_count": 3,
   "metadata": {},
   "outputs": [],
   "source": [
    "os.environ[\"HF_TOKEN\"] = os.getenv(\"HF_TOKEN\")\n",
    "os.environ[\"GROQ_API_KEY\"] = os.getenv(\"GROQ_API_KEY\")"
   ]
  },
  {
   "cell_type": "code",
   "execution_count": 4,
   "metadata": {},
   "outputs": [],
   "source": [
    "from langchain_huggingface import HuggingFaceEmbeddings\n",
    "\n",
    "embeddings = HuggingFaceEmbeddings(model_name=\"all-MiniLM-L6-v2\")"
   ]
  },
  {
   "cell_type": "code",
   "execution_count": 5,
   "metadata": {},
   "outputs": [
    {
     "data": {
      "text/plain": [
       "ChatGroq(client=<groq.resources.chat.completions.Completions object at 0x118a21f10>, async_client=<groq.resources.chat.completions.AsyncCompletions object at 0x14f736f10>, model_name='Llama3-8b-8192', model_kwargs={}, groq_api_key=SecretStr('**********'))"
      ]
     },
     "execution_count": 5,
     "metadata": {},
     "output_type": "execute_result"
    }
   ],
   "source": [
    "from langchain_groq import ChatGroq\n",
    "\n",
    "groq_api_key = os.environ[\"GROQ_API_KEY\"]\n",
    "\n",
    "llm = ChatGroq(groq_api_key=groq_api_key, model=\"Llama3-8b-8192\")\n",
    "llm\n"
   ]
  },
  {
   "cell_type": "code",
   "execution_count": 6,
   "metadata": {},
   "outputs": [],
   "source": [
    "## Vector stores\n",
    "from langchain_chroma import Chroma\n",
    "\n",
    "vectorstore = Chroma.from_documents(documents,embedding=embeddings)"
   ]
  },
  {
   "cell_type": "code",
   "execution_count": 7,
   "metadata": {},
   "outputs": [
    {
     "data": {
      "text/plain": [
       "[Document(id='3d7aa4a6-0e36-45da-b528-bd9d7e784f44', metadata={'source': 'speech.txt'}, page_content='Ladies and Gentlemen,'),\n",
       " Document(id='9f9ec896-2982-4264-8ae7-0ddb128e5f77', metadata={'source': 'speech.txt'}, page_content='Ladies and Gentlemen, let me once again thank you for your patience. Being aware and responsible, we are capable of overcoming the threats of obesity spread. Thank you!'),\n",
       " Document(id='5f54363f-f70c-46ba-be3b-2efd67531882', metadata={'source': 'speech.txt'}, page_content='the lifestyle patterns cultivated in the US are actually contributing to the concept of human dignity or not. Unfortunately, the honest answer would rather disappoint us.'),\n",
       " Document(id='77067db4-3907-4bd7-8478-0553e51dd23d', metadata={'source': 'speech.txt'}, page_content='Obviously, the complaints and disappointment may hardly improve the recent state of affairs. Subsequently, I believe, that the awareness and personal determination to change the trend are the first')]"
      ]
     },
     "execution_count": 7,
     "metadata": {},
     "output_type": "execute_result"
    }
   ],
   "source": [
    "vectorstore.similarity_search(\"ladies\")"
   ]
  },
  {
   "cell_type": "code",
   "execution_count": 10,
   "metadata": {},
   "outputs": [
    {
     "data": {
      "text/plain": [
       "[Document(id='3d7aa4a6-0e36-45da-b528-bd9d7e784f44', metadata={'source': 'speech.txt'}, page_content='Ladies and Gentlemen,'),\n",
       " Document(id='9f9ec896-2982-4264-8ae7-0ddb128e5f77', metadata={'source': 'speech.txt'}, page_content='Ladies and Gentlemen, let me once again thank you for your patience. Being aware and responsible, we are capable of overcoming the threats of obesity spread. Thank you!'),\n",
       " Document(id='5f54363f-f70c-46ba-be3b-2efd67531882', metadata={'source': 'speech.txt'}, page_content='the lifestyle patterns cultivated in the US are actually contributing to the concept of human dignity or not. Unfortunately, the honest answer would rather disappoint us.'),\n",
       " Document(id='77067db4-3907-4bd7-8478-0553e51dd23d', metadata={'source': 'speech.txt'}, page_content='Obviously, the complaints and disappointment may hardly improve the recent state of affairs. Subsequently, I believe, that the awareness and personal determination to change the trend are the first')]"
      ]
     },
     "execution_count": 10,
     "metadata": {},
     "output_type": "execute_result"
    }
   ],
   "source": [
    "# Async query\n",
    "await vectorstore.asimilarity_search(\"ladies\")"
   ]
  },
  {
   "cell_type": "markdown",
   "metadata": {},
   "source": [
    "### Retrievers\n",
    "\n",
    "###### Retriever is a subclass of Runnable and vectorstore is not a part of Runnable "
   ]
  },
  {
   "cell_type": "code",
   "execution_count": 11,
   "metadata": {},
   "outputs": [
    {
     "name": "stderr",
     "output_type": "stream",
     "text": [
      "huggingface/tokenizers: The current process just got forked, after parallelism has already been used. Disabling parallelism to avoid deadlocks...\n",
      "To disable this warning, you can either:\n",
      "\t- Avoid using `tokenizers` before the fork if possible\n",
      "\t- Explicitly set the environment variable TOKENIZERS_PARALLELISM=(true | false)\n",
      "huggingface/tokenizers: The current process just got forked, after parallelism has already been used. Disabling parallelism to avoid deadlocks...\n",
      "To disable this warning, you can either:\n",
      "\t- Avoid using `tokenizers` before the fork if possible\n",
      "\t- Explicitly set the environment variable TOKENIZERS_PARALLELISM=(true | false)\n"
     ]
    },
    {
     "data": {
      "text/plain": [
       "[[Document(id='3d7aa4a6-0e36-45da-b528-bd9d7e784f44', metadata={'source': 'speech.txt'}, page_content='Ladies and Gentlemen,')],\n",
       " [Document(id='748ddd2a-9394-49ba-8647-50b055ec40df', metadata={'source': 'speech.txt'}, page_content='of the Department of Health. Let me disagree and explain the essence the obesity spread. In particular, reducing the time and money being spent on meal has become a generally accepted trend which,')]]"
      ]
     },
     "execution_count": 11,
     "metadata": {},
     "output_type": "execute_result"
    }
   ],
   "source": [
    "from typing import List\n",
    "\n",
    "from langchain_core.documents import Document\n",
    "from langchain_core.runnables import RunnableLambda\n",
    "\n",
    "retriever = RunnableLambda(vectorstore.similarity_search).bind(k=1)\n",
    "retriever.batch([\"ladies\", \"obesity\"])"
   ]
  },
  {
   "cell_type": "code",
   "execution_count": 12,
   "metadata": {},
   "outputs": [
    {
     "data": {
      "text/plain": [
       "[[Document(id='3d7aa4a6-0e36-45da-b528-bd9d7e784f44', metadata={'source': 'speech.txt'}, page_content='Ladies and Gentlemen,')],\n",
       " [Document(id='748ddd2a-9394-49ba-8647-50b055ec40df', metadata={'source': 'speech.txt'}, page_content='of the Department of Health. Let me disagree and explain the essence the obesity spread. In particular, reducing the time and money being spent on meal has become a generally accepted trend which,')]]"
      ]
     },
     "execution_count": 12,
     "metadata": {},
     "output_type": "execute_result"
    }
   ],
   "source": [
    "retriever = vectorstore.as_retriever(\n",
    "    search_type=\"similarity\",\n",
    "    search_kwargs={\"k\":1}\n",
    ")\n",
    "\n",
    "retriever.batch([\"ladies\", \"obesity\"])"
   ]
  },
  {
   "cell_type": "code",
   "execution_count": 15,
   "metadata": {},
   "outputs": [
    {
     "name": "stdout",
     "output_type": "stream",
     "text": [
      "Based on the provided context, here's what I can infer about obesity:\n",
      "\n",
      "The context suggests that reducing the time and money spent on meals has become a generally accepted trend, which is related to the spread of obesity. This implies that obesity is a growing concern, and the trend of reducing meal time and expenses could be a contributing factor to its spread.\n"
     ]
    }
   ],
   "source": [
    "from langchain_core.prompts import ChatPromptTemplate\n",
    "from langchain_core.runnables import RunnablePassthrough\n",
    "\n",
    "message = \"\"\"\n",
    "Answer this question using provided context only.\n",
    "\n",
    "{question}\n",
    "\n",
    "Context:\n",
    "{context}\n",
    "\"\"\"\n",
    "prompt = ChatPromptTemplate.from_messages([(\"human\", message)])\n",
    "\n",
    "rag_chain = {\"context\": retriever, \"question\": RunnablePassthrough()}|prompt|llm\n",
    "\n",
    "response = rag_chain.invoke(\"tell me about obesity\")\n",
    "\n",
    "print(response.content)"
   ]
  },
  {
   "cell_type": "code",
   "execution_count": null,
   "metadata": {},
   "outputs": [],
   "source": []
  }
 ],
 "metadata": {
  "kernelspec": {
   "display_name": "myenv",
   "language": "python",
   "name": "python3"
  },
  "language_info": {
   "codemirror_mode": {
    "name": "ipython",
    "version": 3
   },
   "file_extension": ".py",
   "mimetype": "text/x-python",
   "name": "python",
   "nbconvert_exporter": "python",
   "pygments_lexer": "ipython3",
   "version": "3.11.4"
  }
 },
 "nbformat": 4,
 "nbformat_minor": 2
}
